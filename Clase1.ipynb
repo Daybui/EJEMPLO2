{
  "nbformat": 4,
  "nbformat_minor": 0,
  "metadata": {
    "colab": {
      "provenance": [],
      "toc_visible": true,
      "authorship_tag": "ABX9TyMCnLA/JvZ6d8b1d5pN6bgL",
      "include_colab_link": true
    },
    "kernelspec": {
      "name": "python3",
      "display_name": "Python 3"
    },
    "language_info": {
      "name": "python"
    }
  },
  "cells": [
    {
      "cell_type": "markdown",
      "metadata": {
        "id": "view-in-github",
        "colab_type": "text"
      },
      "source": [
        "<a href=\"https://colab.research.google.com/github/Daybui/EJEMPLO2/blob/Versi%C3%B3n-2/Clase1.ipynb\" target=\"_parent\"><img src=\"https://colab.research.google.com/assets/colab-badge.svg\" alt=\"Open In Colab\"/></a>"
      ]
    },
    {
      "cell_type": "markdown",
      "source": [
        "#Ejemplo"
      ],
      "metadata": {
        "id": "kFKkOS09mXRZ"
      }
    },
    {
      "cell_type": "code",
      "execution_count": null,
      "metadata": {
        "id": "wvgh6-1Qh63Y"
      },
      "outputs": [],
      "source": [
        "a = 2"
      ]
    },
    {
      "cell_type": "code",
      "source": [
        "Z = 4"
      ],
      "metadata": {
        "id": "YuTrY80U5SYt"
      },
      "execution_count": null,
      "outputs": []
    },
    {
      "cell_type": "markdown",
      "source": [
        "adicional"
      ],
      "metadata": {
        "id": "LeVbgb6h5Vfw"
      }
    },
    {
      "cell_type": "code",
      "source": [],
      "metadata": {
        "id": "ccROlEXzkfy0"
      },
      "execution_count": null,
      "outputs": []
    }
  ]
}